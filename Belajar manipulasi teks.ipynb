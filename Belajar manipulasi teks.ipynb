{
 "cells": [
  {
   "cell_type": "markdown",
   "id": "5812d6c6",
   "metadata": {},
   "source": [
    "#Belajar Menggunakan Python"
   ]
  },
  {
   "cell_type": "markdown",
   "id": "f14ae3f4",
   "metadata": {},
   "source": [
    "*Kombinasi **TEBAL** dan italic*"
   ]
  },
  {
   "cell_type": "markdown",
   "id": "e4d3ede5",
   "metadata": {},
   "source": [
    "# Heading 1"
   ]
  },
  {
   "cell_type": "markdown",
   "id": "77a5d9b0",
   "metadata": {},
   "source": [
    "Kita Menggunakan italic seperti ini*"
   ]
  },
  {
   "cell_type": "markdown",
   "id": "cc4b7e3a",
   "metadata": {},
   "source": [
    "kita menggunakan Italic *seperti ini*"
   ]
  },
  {
   "cell_type": "markdown",
   "id": "8abe257e",
   "metadata": {},
   "source": [
    ">\"Kuda adalah hewan berkaki empat\""
   ]
  },
  {
   "cell_type": "markdown",
   "id": "d1bf9b70",
   "metadata": {},
   "source": [
    "![gambar_awal](home.jpg)"
   ]
  },
  {
   "cell_type": "markdown",
   "id": "1b75e148",
   "metadata": {},
   "source": [
    "penyelesaian while tidak berhenti\n"
   ]
  },
  {
   "cell_type": "code",
   "execution_count": null,
   "id": "c5e72c27",
   "metadata": {},
   "outputs": [],
   "source": []
  },
  {
   "cell_type": "code",
   "execution_count": null,
   "id": "29f6335b",
   "metadata": {},
   "outputs": [],
   "source": []
  }
 ],
 "metadata": {
  "kernelspec": {
   "display_name": "Python 3 (ipykernel)",
   "language": "python",
   "name": "python3"
  },
  "language_info": {
   "codemirror_mode": {
    "name": "ipython",
    "version": 3
   },
   "file_extension": ".py",
   "mimetype": "text/x-python",
   "name": "python",
   "nbconvert_exporter": "python",
   "pygments_lexer": "ipython3",
   "version": "3.9.7"
  }
 },
 "nbformat": 4,
 "nbformat_minor": 5
}
