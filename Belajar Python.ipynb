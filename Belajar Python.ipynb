{
 "cells": [
  {
   "cell_type": "markdown",
   "id": "6f169f03",
   "metadata": {},
   "source": [
    "Saya ingin menjadi mahir di bahasa Python"
   ]
  },
  {
   "cell_type": "code",
   "execution_count": 1,
   "id": "af88a7ac",
   "metadata": {},
   "outputs": [
    {
     "name": "stdout",
     "output_type": "stream",
     "text": [
      "SHIFT + ENTER\n"
     ]
    }
   ],
   "source": [
    "print('SHIFT + ENTER')"
   ]
  },
  {
   "cell_type": "code",
   "execution_count": 2,
   "id": "d3a30ad6",
   "metadata": {},
   "outputs": [
    {
     "data": {
      "text/plain": [
       "1"
      ]
     },
     "execution_count": 2,
     "metadata": {},
     "output_type": "execute_result"
    }
   ],
   "source": [
    "1*1"
   ]
  },
  {
   "cell_type": "markdown",
   "id": "c3b63ebe",
   "metadata": {},
   "source": [
    "jika ingin menambah line tanpa eksekusi ketik ALT+ENTER"
   ]
  },
  {
   "cell_type": "code",
   "execution_count": 3,
   "id": "09b0e11e",
   "metadata": {},
   "outputs": [
    {
     "data": {
      "text/plain": [
       "64"
      ]
     },
     "execution_count": 3,
     "metadata": {},
     "output_type": "execute_result"
    }
   ],
   "source": [
    "8*8"
   ]
  },
  {
   "cell_type": "code",
   "execution_count": null,
   "id": "992daadc",
   "metadata": {},
   "outputs": [],
   "source": []
  },
  {
   "cell_type": "code",
   "execution_count": null,
   "id": "ad508052",
   "metadata": {},
   "outputs": [],
   "source": []
  },
  {
   "cell_type": "code",
   "execution_count": null,
   "id": "5dceb5d4",
   "metadata": {},
   "outputs": [],
   "source": []
  },
  {
   "cell_type": "code",
   "execution_count": null,
   "id": "ba4ed993",
   "metadata": {},
   "outputs": [],
   "source": []
  },
  {
   "cell_type": "code",
   "execution_count": null,
   "id": "b85c4927",
   "metadata": {},
   "outputs": [],
   "source": []
  },
  {
   "cell_type": "code",
   "execution_count": null,
   "id": "2d61dc63",
   "metadata": {},
   "outputs": [],
   "source": []
  }
 ],
 "metadata": {
  "kernelspec": {
   "display_name": "Python 3 (ipykernel)",
   "language": "python",
   "name": "python3"
  },
  "language_info": {
   "codemirror_mode": {
    "name": "ipython",
    "version": 3
   },
   "file_extension": ".py",
   "mimetype": "text/x-python",
   "name": "python",
   "nbconvert_exporter": "python",
   "pygments_lexer": "ipython3",
   "version": "3.9.7"
  }
 },
 "nbformat": 4,
 "nbformat_minor": 5
}
